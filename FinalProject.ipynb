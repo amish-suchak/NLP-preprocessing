{
 "cells": [
  {
   "cell_type": "code",
   "execution_count": 2,
   "metadata": {},
   "outputs": [],
   "source": [
    "import pandas as pd\n",
    "import numpy as np\n",
    "import matplotlib.pyplot as plt\n",
    "import nltk\n",
    "from nltk.corpus import stopwords\n",
    "import string\n",
    "from nltk.classify import NaiveBayesClassifier\n",
    "import contractions\n",
    "import re"
   ]
  },
  {
   "cell_type": "code",
   "execution_count": 3,
   "metadata": {},
   "outputs": [],
   "source": [
    "data = pd.read_csv(\"mbti_1.csv\")\n",
    "types = np.unique(np.array(data['type']))"
   ]
  },
  {
   "cell_type": "code",
   "execution_count": 7,
   "metadata": {},
   "outputs": [
    {
     "data": {
      "text/plain": [
       "\"'Dear INTP,   I enjoyed our conversation the other day.  Esoteric gabbing about the nature of the universe and the idea that every rule and social code being arbitrary constructs created...|||Dear ENTJ sub,   Long time no see.  Sincerely, Alpha|||None of them. All other types hurt in deep existential ways that I want no part of.|||Probably a sliding scale that depends on individual preferences, like everything in humanity.|||Draco Malfoy also. I'd say he's either 358 or 368.|||I'm either 358 or 385, though in which stacking to me is a somewhat arbitrary distinction to make as I believe that the core indicates primary motivation and has a hand in every action. Therefore, a...|||I'm not particularly introverted or extraverted, personally. That said, I would say I'm somewhat unphased by either social interactions or being alone. What I'd say I crave more so than anything is...|||Dear Type 9 INFP,  Your absolute admiration of me is refreshing. You're a great girlfriend and I wish we both didn't have such busy schedules so we could be around one another more often.  Keep...|||2% still means about 1/50 people. I've probably seen 1-2 others today. I never understood fascination by virtue of rarity.|||So, you're on the ESFJ train also, right?|||I have toyed with the idea of the OP being an extrovert also for awhile now, actually. After many conversations with him, however I'm disinclined to believe it due to OP being much too close with Fi...|||Still ESFJ|||I disagree.  Definite ESFJ. Fe- Si ALL up in this.|||Where have you been?  Your mother and I have been worried sick.|||Similar feelings concerning ENTPs.|||I collect shoes. I do so because I like status and nothing communicates such a thing as much as a pair of Jordans.|||Sure. Let's get weird.    Back. Off.|||Best...|||[Insert other into previous post.]|||Wow, don't nobody got time fo' dat...  Jk, u kno u mah boi.|||Well, as I'm sure everyone knows, being social primary doesn't necessarily equal being social. I like other people just fine, but lately I've been on a bit of a break when it comes to my...|||That's pretty crappy of her. Your sex life is definitely not her business. If I were you, I'd definitely talk to her about it.|||Yeah, I had a lot longer to think about it. That said, I don't think you're Te, so if we operate under the assumptions in the OP, you're INFJ because nothing else makes sense. I'm not saying I...|||Whether or not you actually are, your mom makes fun of you for being a virgin? Is this playful teasing?|||Just stab in the dark here, I don't think that's Te under the hood. If this here is all I'm given to work with, I'd have to say INFJ.  Compare your idea of 'logic' to mine:  Logic is a series of...|||What makes the most sense?|||Tentatively INTJ. Still reading.  EDIT: So far, I am of the belief that you're most of the things you say you are. I appreciate the level of detail.  EDIT: Also relatively certain you are Ni...|||Refreshing self with reading about instinctual variants.  God, I'm a hard social type.|||WOW! Useful thought you had there! Wanna know what my favorite part was?  The fact that it ended...|||I am both annoyed and intrigued by xxFPs.  As far as I can tell, I dislike all J types in my normal life.|||I'm not of the mind that any enneatype/MBTI combination is impossible because cognition =/= the things that motivate us. That said, we can clearly observe many types being more common than others...|||Sx as hell...   https://www.youtube.com/watch?v=uelHwf8o7_U|||Very seriously toying with the idea of being 351. I can be pretty aggressive and controlling, but I have a massive 'holier than thou' streak once you get to know me with any depth (like more than 1-2...|||I'd say it's a mostly emotional experience.|||Because I find in depth study of cognition more interesting. Included MBTI in my answer to illustrate how much I enjoyed socionics. Interpret the post as wholehearted agreement with what she was...|||No real argument here.   I know what I am, and what I am is an asshole that is, for a second baring his teeth at the people that seemingly have a lot to say but refuse to address me beyond a single...|||I would refer you to the OP. If you need a literal analysis, I'm happy to provide it. That said, I'm going to assume you're able to read and interpret symbolism, so I doubt you'll need that much help.|||And this was sort of my thought process. The initial post and how it connects the generally accepted view of the type 3 and what the type 3 is motivated by doesn't seem to be in need of explanation....|||Oh my...  I am quite crushable, huh?  Back atcha.|||I was, but it's 5am. I'll take what I can get.|||I wanted to come up with something clever, but it's almost 5am.  I would give you a lot of sex.|||So then why do you even bother asking if you've already made up your mind that you are an extravert, intuitive and feeling? If you've  already decided you are these things and have evidently done the...|||Wasn't sure I listened to sx music until now.   https://www.youtube.com/watch?v=7hcYx_y5xdo|||INFP messaged me with a picture of herself before going to bed.  Asked me to say goodnight to her.  Asked me to say goodnight to her again.  I did. I thought it was weird, secretly.  I like...|||Either way, you see my point. The actual rarity is skewed and makes a type seem rarer than it likely is in real contexts. I may have been the only one of my type in a class room in High School, but...|||WOW my math was off! I literally just said numbers. See how over glorified the type is?  Even so, though. I saw around two-hundred people (REALLY rough estimate) between both of my jobs. It's...|||Rarity in the context of the entire planet is somewhat silly. Even if we assume the greatest reports of our 'rarity', we (INTJ) encompass 1% of the planet, which sounds rare when you don't think...|||One could say that whatever the culmination of all of our actions are throughout our lives equal our potential.  In this sense, everybody does, but as we all know, not everyone's potential is the...|||I would agree, however, those that profess to know their type not stating anything about their type's motivations strike me as either not wanting to touch on them or not being able to. If they don't...|||Lol.'\""
      ]
     },
     "execution_count": 7,
     "metadata": {},
     "output_type": "execute_result"
    }
   ],
   "source": [
    "data.posts[3]"
   ]
  },
  {
   "cell_type": "markdown",
   "metadata": {},
   "source": [
    "# Data Cleaning\n",
    "\n",
    "We first begin to clean the data by removing the stop words from the data along with any information about the links that the users post. "
   ]
  },
  {
   "cell_type": "code",
   "execution_count": 3,
   "metadata": {},
   "outputs": [],
   "source": [
    "data['posts'] = data['posts'].str.replace('http\\S+|www.\\S+', '', case=False)"
   ]
  },
  {
   "cell_type": "code",
   "execution_count": 4,
   "metadata": {},
   "outputs": [],
   "source": [
    "data['posts'] = data['posts'].apply(lambda x: ' '.join([re.sub(r\"[^A-Za-z0-9(),!?\\'\\`\\.]\", \" \", word) for word in x.split()]))"
   ]
  },
  {
   "cell_type": "code",
   "execution_count": 5,
   "metadata": {},
   "outputs": [],
   "source": [
    "data['posts']= data['posts'].apply(lambda x: ' '.join([contractions.fix(word) for word in x.split()]))"
   ]
  },
  {
   "cell_type": "code",
   "execution_count": 6,
   "metadata": {},
   "outputs": [],
   "source": [
    "data['posts'] = data['posts'].apply(lambda x: ' '.join([word.lower() for word in x.split()]))"
   ]
  },
  {
   "cell_type": "code",
   "execution_count": 7,
   "metadata": {},
   "outputs": [],
   "source": [
    "stop = stopwords.words('english')\n",
    "data['posts'] = data['posts'].apply(lambda x: ' '.join([word for word in x.split() if word not in (stop)]))"
   ]
  },
  {
   "cell_type": "code",
   "execution_count": 8,
   "metadata": {},
   "outputs": [],
   "source": [
    "lemmatizer = nltk.stem.WordNetLemmatizer()\n",
    "data['posts'] = data['posts'].apply(lambda x: ' '.join([lemmatizer.lemmatize(word, 'v') for word in x.split()]))"
   ]
  },
  {
   "cell_type": "code",
   "execution_count": 10,
   "metadata": {},
   "outputs": [],
   "source": [
    "data.to_csv('preprocessed.csv')"
   ]
  },
  {
   "cell_type": "markdown",
   "metadata": {},
   "source": [
    "# Data Preprocessing\n",
    "\n",
    "This step involves tokenizing the words and padding "
   ]
  },
  {
   "cell_type": "code",
   "execution_count": 1,
   "metadata": {},
   "outputs": [
    {
     "name": "stderr",
     "output_type": "stream",
     "text": [
      "Using TensorFlow backend.\n"
     ]
    }
   ],
   "source": [
    "import pandas as pd\n",
    "from sklearn.model_selection import train_test_split\n",
    "from keras.preprocessing.text import Tokenizer\n",
    "df = pd.read_csv(\"preprocessed.csv\")\n",
    "from keras.preprocessing import sequence\n",
    "import numpy as np\n",
    "import matplotlib.pyplot as plt\n",
    "import nltk\n",
    "from nltk.corpus import stopwords\n",
    "import string\n",
    "from nltk.classify import NaiveBayesClassifier\n",
    "import contractions\n",
    "import re\n",
    "from keras.preprocessing import sequence\n",
    "from keras.models import Sequential\n",
    "from keras.layers import Dense, Embedding\n",
    "from keras.layers import LSTM,RNN,GRU, Dropout\n",
    "from keras.datasets import imdb\n",
    "import matplotlib.pyplot as plt\n",
    "from keras.constraints import max_norm\n",
    "from keras.callbacks import EarlyStopping, ModelCheckpoint\n",
    "from keras.preprocessing.text import Tokenizer\n"
   ]
  },
  {
   "cell_type": "code",
   "execution_count": 2,
   "metadata": {},
   "outputs": [
    {
     "data": {
      "text/plain": [
       "\"wouldear intp, enjoy conversation day. esoteric gabbing nature universe idea every rule social code arbitrary construct created... dear entj sub, long time see. sincerely, alpha none them. type hurt deep existential ways want part of. probably slide scale depend individual preferences, like everything humanity. draco malfoy also. would say either  . either  , though stack somewhat arbitrary distinction make believe core indicate primary motivation hand every action. therefore, a... particularly introvert extraverted, personally. said, would say somewhat unphased either social interactions alone. would say crave anything is... dear type  infp, absolute admiration refreshing. great girlfriend wish busy schedule could around one another often. keep...  still mean   people. probably see   others today. never understand fascination virtue rarity. so, esfj train also, right? toy idea op extrovert also awhile now, actually. many conversations him, however disincline believe due op much close fi... still esfj disagree. definite esfj. fe si this. been? mother worry sick. similar feel concern entps. collect shoes. like status nothing communicate thing much pair jordans. sure. let us get weird. back. off. best... insert previous post. wow, nobody get time fo' dat... jk, kno mah boi. well, sure everyone knows, social primary necessarily equal social. like people fine, lately bite break come my... pretty crappy her. sex life definitely business. you, would definitely talk it. yeah, lot longer think it. said, think te, operate assumptions op, infj nothing else make sense. say i... whether actually are, mom make fun virgin? playful teasing? stab dark here, think te hood. give work with, would say infj. compare idea 'logic' mine logic series of... make sense? tentatively intj. still reading. edit far, belief things say are. appreciate level detail. edit also relatively certain ni... refresh self read instinctual variants. god, hard social type. wow! useful think there! want know favorite part was? fact ended... annoy intrigue xxfps. far tell, dislike j type normal life. mind enneatype mbti combination impossible cognition things motivate us. said, clearly observe many type common others... sx hell... seriously toy idea . pretty aggressive controlling, massive 'holier thou' streak get know depth (like  ... would say mostly emotional experience. find depth study cognition interesting. include mbti answer illustrate much enjoy socionics. interpret post wholehearted agreement was... real argument here. know am, asshole is, second bar teeth people seemingly lot say refuse address beyond single... would refer op. need literal analysis, happy provide it. said, go assume able read interpret symbolism, doubt need much help. sort think process. initial post connect generally accept view type  type  motivate seem need explanation.... oh my... quite crushable, huh? back atcha. was, am. take get. want come something clever, almost am. would give lot sex. even bother ask already make mind extravert, intuitive feeling? already decide things evidently do the... sure listen sx music now. message picture go bed. ask say goodnight her. ask say goodnight again. did. think weird, secretly. like... either way, see point. actual rarity skew make type seem rarer likely real contexts. may one type class room high school, but... wow math off! literally say numbers. see glorify type is? even so, though. saw around two hundred people (really rough estimate) jobs. is... rarity context entire planet somewhat silly. even assume greatest report 'rarity', (intj) encompass  planet, sound rare think... one could say whatever culmination action throughout live equal potential. sense, everybody does, know, everyone's potential the... would agree, however, profess know type state anything type's motivations strike either want touch able to. not... lol.'\""
      ]
     },
     "execution_count": 2,
     "metadata": {},
     "output_type": "execute_result"
    }
   ],
   "source": [
    "df.posts = df.posts.str.replace('\\d+','')\n",
    "df.posts[3]"
   ]
  },
  {
   "cell_type": "code",
   "execution_count": 3,
   "metadata": {},
   "outputs": [],
   "source": [
    "df['E'] = df['type'].apply(lambda x: 1 if x[0] == 'E' else 0)\n",
    "df['S'] = df['type'].apply(lambda x: 1 if x[1] == 'S' else 0)\n",
    "df['T'] = df['type'].apply(lambda x: 1 if x[2] == 'T' else 0)\n",
    "df['J'] = df['type'].apply(lambda x: 1 if x[3] == 'J' else 0)"
   ]
  },
  {
   "cell_type": "code",
   "execution_count": 4,
   "metadata": {},
   "outputs": [],
   "source": [
    "X = df['posts']\n",
    "X = X.str.replace('\\d+','')"
   ]
  },
  {
   "cell_type": "code",
   "execution_count": 5,
   "metadata": {},
   "outputs": [],
   "source": [
    "max_features = 3000\n",
    "max_review_length = 500\n",
    "\n",
    "tokenizer = Tokenizer(num_words=max_features, split=' ')\n",
    "tokenizer.fit_on_texts(X.values)\n",
    "x_train = tokenizer.texts_to_sequences(X.values)\n",
    "X_train = sequence.pad_sequences(x_train, maxlen=max_review_length)"
   ]
  },
  {
   "cell_type": "code",
   "execution_count": 6,
   "metadata": {},
   "outputs": [
    {
     "name": "stderr",
     "output_type": "stream",
     "text": [
      "c:\\users\\amish\\appdata\\local\\programs\\python\\python36\\lib\\site-packages\\ipykernel_launcher.py:4: UserWarning: The `dropout` argument is no longer support in `Embedding`. You can apply a `keras.layers.SpatialDropout1D` layer right after the `Embedding` layer to get the same behavior.\n",
      "  after removing the cwd from sys.path.\n",
      "c:\\users\\amish\\appdata\\local\\programs\\python\\python36\\lib\\site-packages\\ipykernel_launcher.py:5: UserWarning: Update your `LSTM` call to the Keras 2 API: `LSTM(50, dropout=0.2, recurrent_dropout=0.2)`\n",
      "  \"\"\"\n"
     ]
    },
    {
     "name": "stdout",
     "output_type": "stream",
     "text": [
      "_________________________________________________________________\n",
      "Layer (type)                 Output Shape              Param #   \n",
      "=================================================================\n",
      "embedding_1 (Embedding)      (None, 500, 50)           150000    \n",
      "_________________________________________________________________\n",
      "lstm_1 (LSTM)                (None, 50)                20200     \n",
      "_________________________________________________________________\n",
      "dropout_1 (Dropout)          (None, 50)                0         \n",
      "_________________________________________________________________\n",
      "dense_1 (Dense)              (None, 2)                 102       \n",
      "=================================================================\n",
      "Total params: 170,302\n",
      "Trainable params: 170,302\n",
      "Non-trainable params: 0\n",
      "_________________________________________________________________\n",
      "None\n"
     ]
    }
   ],
   "source": [
    "embed_dim = 50\n",
    "lstm_out = 50\n",
    "model = Sequential()\n",
    "model.add(Embedding(max_features, embed_dim,input_length = X_train.shape[1], dropout=0.2))\n",
    "model.add(LSTM(lstm_out, dropout_U=0.2, dropout_W=0.2))\n",
    "model.add(Dropout(0.2))\n",
    "model.add(Dense(2,activation='softmax'))\n",
    "model.compile(loss = 'binary_crossentropy', optimizer='adam',metrics = ['accuracy'])\n",
    "print(model.summary())"
   ]
  },
  {
   "cell_type": "code",
   "execution_count": 7,
   "metadata": {},
   "outputs": [
    {
     "name": "stdout",
     "output_type": "stream",
     "text": [
      "(6940, 500) (6940, 2)\n",
      "(1735, 500) (1735, 2)\n"
     ]
    }
   ],
   "source": [
    "Y = pd.get_dummies(df['T'].values)\n",
    "X_train, X_test, Y_train, Y_test = train_test_split(X_train,Y, test_size = 0.2,stratify=Y ,random_state = 42)\n",
    "print(X_train.shape,Y_train.shape)\n",
    "print(X_test.shape,Y_test.shape)"
   ]
  },
  {
   "cell_type": "code",
   "execution_count": 8,
   "metadata": {},
   "outputs": [
    {
     "name": "stdout",
     "output_type": "stream",
     "text": [
      "Train on 6246 samples, validate on 694 samples\n",
      "Epoch 1/3\n",
      "6246/6246 [==============================] - 22s 4ms/step - loss: 0.6891 - acc: 0.5435 - val_loss: 0.6916 - val_acc: 0.5202\n",
      "Epoch 2/3\n",
      "6246/6246 [==============================] - 24s 4ms/step - loss: 0.6499 - acc: 0.6122 - val_loss: 0.6163 - val_acc: 0.6787\n",
      "Epoch 3/3\n",
      "6246/6246 [==============================] - 22s 4ms/step - loss: 0.5200 - acc: 0.7574 - val_loss: 0.6156 - val_acc: 0.6859\n"
     ]
    }
   ],
   "source": [
    "batch_size = 128\n",
    "history = model.fit(X_train, Y_train, epochs = 3, batch_size=batch_size, validation_split=0.1)"
   ]
  },
  {
   "cell_type": "code",
   "execution_count": 9,
   "metadata": {},
   "outputs": [
    {
     "name": "stdout",
     "output_type": "stream",
     "text": [
      "score: 0.60\n",
      "acc: 0.68\n"
     ]
    }
   ],
   "source": [
    "score,acc = model.evaluate(X_test, Y_test, verbose = 2, batch_size = batch_size)\n",
    "print(\"score: %.2f\" % (score))\n",
    "print(\"acc: %.2f\" % (acc))"
   ]
  },
  {
   "cell_type": "code",
   "execution_count": 10,
   "metadata": {},
   "outputs": [],
   "source": [
    "y_pred = model.predict(X_test)"
   ]
  },
  {
   "cell_type": "code",
   "execution_count": 11,
   "metadata": {},
   "outputs": [
    {
     "data": {
      "text/plain": [
       "<matplotlib.axes._subplots.AxesSubplot at 0x24044edbcf8>"
      ]
     },
     "execution_count": 11,
     "metadata": {},
     "output_type": "execute_result"
    },
    {
     "data": {
      "image/png": "[encoded data removed]",
      "text/plain": [
       "<Figure size 360x360 with 2 Axes>"
      ]
     },
     "metadata": {},
     "output_type": "display_data"
    }
   ],
   "source": [
    "import seaborn as sns\n",
    "from sklearn.metrics import confusion_matrix\n",
    "Y_test = Y_test.values\n",
    "#y_pred = y_pred.values\n",
    "\n",
    "\n",
    "sns.set(rc={'figure.figsize':(5,5)})\n",
    "#cm = confusion_matrix(y_test,y_pred.round())\n",
    "cm = confusion_matrix(Y_test.argmax(axis=1), y_pred.argmax(axis=1))\n",
    "sns.heatmap(cm,annot=True,fmt=\"d\")"
   ]
  },
  {
   "cell_type": "code",
   "execution_count": 12,
   "metadata": {},
   "outputs": [
    {
     "data": {
      "image/png": "[encoded data removed]",
      "text/plain": [
       "<Figure size 360x360 with 1 Axes>"
      ]
     },
     "metadata": {},
     "output_type": "display_data"
    }
   ],
   "source": [
    "plt.plot(history.history['loss'])\n",
    "plt.plot(history.history['val_loss'])\n",
    "#plt.ylim(2,3)\n",
    "plt.title('Model loss')\n",
    "plt.ylabel('loss')\n",
    "plt.xlabel('epoch')\n",
    "plt.legend(['train', 'test'], loc='upper left')\n",
    "plt.show()\n"
   ]
  },
  {
   "cell_type": "code",
   "execution_count": null,
   "metadata": {},
   "outputs": [],
   "source": []
  }
 ],
 "metadata": {
  "kernelspec": {
   "display_name": "Python 3",
   "language": "python",
   "name": "python3"
  },
  "language_info": {
   "codemirror_mode": {
    "name": "ipython",
    "version": 3
   },
   "file_extension": ".py",
   "mimetype": "text/x-python",
   "name": "python",
   "nbconvert_exporter": "python",
   "pygments_lexer": "ipython3",
   "version": "3.6.7"
  }
 },
 "nbformat": 4,
 "nbformat_minor": 2
}
