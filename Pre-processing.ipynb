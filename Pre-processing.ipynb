{
 "cells": [
  {
   "cell_type": "markdown",
   "metadata": {},
   "source": [
    "# Pre-processing in Natural Language Processing projects"
   ]
  },
  {
   "cell_type": "code",
   "execution_count": 1,
   "metadata": {},
   "outputs": [
    {
     "name": "stderr",
     "output_type": "stream",
     "text": [
      "Using TensorFlow backend.\n"
     ]
    }
   ],
   "source": [
    "import re\n",
    "import nltk\n",
    "import string\n",
    "import contractions\n",
    "\n",
    "import numpy as np\n",
    "import pandas as pd\n",
    "import matplotlib.pyplot as plt\n",
    "\n",
    "from nltk.corpus import stopwords\n",
    "from nltk.classify import NaiveBayesClassifier\n",
    "\n",
    "from sklearn.model_selection import train_test_split\n",
    "\n",
    "from keras.models import Sequential\n",
    "from keras.layers import Embedding\n",
    "from keras.preprocessing import sequence\n",
    "from keras.preprocessing.text import Tokenizer\n",
    "from keras.preprocessing import sequence\n"
   ]
  },
  {
   "cell_type": "markdown",
   "metadata": {},
   "source": [
    "We start by loading the dataset and observing the format of the posts and the type. "
   ]
  },
  {
   "cell_type": "code",
   "execution_count": 2,
   "metadata": {},
   "outputs": [
    {
     "data": {
      "text/html": [
       "<div>\n",
       "<style scoped>\n",
       "    .dataframe tbody tr th:only-of-type {\n",
       "        vertical-align: middle;\n",
       "    }\n",
       "\n",
       "    .dataframe tbody tr th {\n",
       "        vertical-align: top;\n",
       "    }\n",
       "\n",
       "    .dataframe thead th {\n",
       "        text-align: right;\n",
       "    }\n",
       "</style>\n",
       "<table border=\"1\" class=\"dataframe\">\n",
       "  <thead>\n",
       "    <tr style=\"text-align: right;\">\n",
       "      <th></th>\n",
       "      <th>type</th>\n",
       "      <th>posts</th>\n",
       "    </tr>\n",
       "  </thead>\n",
       "  <tbody>\n",
       "    <tr>\n",
       "      <th>0</th>\n",
       "      <td>INFJ</td>\n",
       "      <td>'http://www.youtube.com/watch?v=qsXHcwe3krw|||...</td>\n",
       "    </tr>\n",
       "    <tr>\n",
       "      <th>1</th>\n",
       "      <td>ENTP</td>\n",
       "      <td>'I'm finding the lack of me in these posts ver...</td>\n",
       "    </tr>\n",
       "    <tr>\n",
       "      <th>2</th>\n",
       "      <td>INTP</td>\n",
       "      <td>'Good one  _____   https://www.youtube.com/wat...</td>\n",
       "    </tr>\n",
       "    <tr>\n",
       "      <th>3</th>\n",
       "      <td>INTJ</td>\n",
       "      <td>'Dear INTP,   I enjoyed our conversation the o...</td>\n",
       "    </tr>\n",
       "    <tr>\n",
       "      <th>4</th>\n",
       "      <td>ENTJ</td>\n",
       "      <td>'You're fired.|||That's another silly misconce...</td>\n",
       "    </tr>\n",
       "  </tbody>\n",
       "</table>\n",
       "</div>"
      ],
      "text/plain": [
       "   type                                              posts\n",
       "0  INFJ  'http://www.youtube.com/watch?v=qsXHcwe3krw|||...\n",
       "1  ENTP  'I'm finding the lack of me in these posts ver...\n",
       "2  INTP  'Good one  _____   https://www.youtube.com/wat...\n",
       "3  INTJ  'Dear INTP,   I enjoyed our conversation the o...\n",
       "4  ENTJ  'You're fired.|||That's another silly misconce..."
      ]
     },
     "execution_count": 2,
     "metadata": {},
     "output_type": "execute_result"
    }
   ],
   "source": [
    "data = pd.read_csv(\"mbti_1.csv\")\n",
    "types = np.unique(np.array(data['type']))\n",
    "data.head()"
   ]
  },
  {
   "cell_type": "markdown",
   "metadata": {},
   "source": [
    "We can now look at one sample in greater detail. Let's look at the case for user 4 and their post history in greater detail. "
   ]
  },
  {
   "cell_type": "code",
   "execution_count": 3,
   "metadata": {},
   "outputs": [
    {
     "data": {
      "text/plain": [
       "\"'Dear INTP,   I enjoyed our conversation the other day.  Esoteric gabbing about the nature of the universe and the idea that every rule and social code being arbitrary constructs created...|||Dear ENTJ sub,   Long time no see.  Sincerely, Alpha|||None of them. All other types hurt in deep existential ways that I want no part of.|||Probably a sliding scale that depends on individual preferences, like everything in humanity.|||Draco Malfoy also. I'd say he's either 358 or 368.|||I'm either 358 or 385, though in which stacking to me is a somewhat arbitrary distinction to make as I believe that the core indicates primary motivation and has a hand in every action. Therefore, a...|||I'm not particularly introverted or extraverted, personally. That said, I would say I'm somewhat unphased by either social interactions or being alone. What I'd say I crave more so than anything is...|||Dear Type 9 INFP,  Your absolute admiration of me is refreshing. You're a great girlfriend and I wish we both didn't have such busy schedules so we could be around one another more often.  Keep...|||2% still means about 1/50 people. I've probably seen 1-2 others today. I never understood fascination by virtue of rarity.|||So, you're on the ESFJ train also, right?|||I have toyed with the idea of the OP being an extrovert also for awhile now, actually. After many conversations with him, however I'm disinclined to believe it due to OP being much too close with Fi...|||Still ESFJ|||I disagree.  Definite ESFJ. Fe- Si ALL up in this.|||Where have you been?  Your mother and I have been worried sick.|||Similar feelings concerning ENTPs.|||I collect shoes. I do so because I like status and nothing communicates such a thing as much as a pair of Jordans.|||Sure. Let's get weird.    Back. Off.|||Best...|||[Insert other into previous post.]|||Wow, don't nobody got time fo' dat...  Jk, u kno u mah boi.|||Well, as I'm sure everyone knows, being social primary doesn't necessarily equal being social. I like other people just fine, but lately I've been on a bit of a break when it comes to my...|||That's pretty crappy of her. Your sex life is definitely not her business. If I were you, I'd definitely talk to her about it.|||Yeah, I had a lot longer to think about it. That said, I don't think you're Te, so if we operate under the assumptions in the OP, you're INFJ because nothing else makes sense. I'm not saying I...|||Whether or not you actually are, your mom makes fun of you for being a virgin? Is this playful teasing?|||Just stab in the dark here, I don't think that's Te under the hood. If this here is all I'm given to work with, I'd have to say INFJ.  Compare your idea of 'logic' to mine:  Logic is a series of...|||What makes the most sense?|||Tentatively INTJ. Still reading.  EDIT: So far, I am of the belief that you're most of the things you say you are. I appreciate the level of detail.  EDIT: Also relatively certain you are Ni...|||Refreshing self with reading about instinctual variants.  God, I'm a hard social type.|||WOW! Useful thought you had there! Wanna know what my favorite part was?  The fact that it ended...|||I am both annoyed and intrigued by xxFPs.  As far as I can tell, I dislike all J types in my normal life.|||I'm not of the mind that any enneatype/MBTI combination is impossible because cognition =/= the things that motivate us. That said, we can clearly observe many types being more common than others...|||Sx as hell...   https://www.youtube.com/watch?v=uelHwf8o7_U|||Very seriously toying with the idea of being 351. I can be pretty aggressive and controlling, but I have a massive 'holier than thou' streak once you get to know me with any depth (like more than 1-2...|||I'd say it's a mostly emotional experience.|||Because I find in depth study of cognition more interesting. Included MBTI in my answer to illustrate how much I enjoyed socionics. Interpret the post as wholehearted agreement with what she was...|||No real argument here.   I know what I am, and what I am is an asshole that is, for a second baring his teeth at the people that seemingly have a lot to say but refuse to address me beyond a single...|||I would refer you to the OP. If you need a literal analysis, I'm happy to provide it. That said, I'm going to assume you're able to read and interpret symbolism, so I doubt you'll need that much help.|||And this was sort of my thought process. The initial post and how it connects the generally accepted view of the type 3 and what the type 3 is motivated by doesn't seem to be in need of explanation....|||Oh my...  I am quite crushable, huh?  Back atcha.|||I was, but it's 5am. I'll take what I can get.|||I wanted to come up with something clever, but it's almost 5am.  I would give you a lot of sex.|||So then why do you even bother asking if you've already made up your mind that you are an extravert, intuitive and feeling? If you've  already decided you are these things and have evidently done the...|||Wasn't sure I listened to sx music until now.   https://www.youtube.com/watch?v=7hcYx_y5xdo|||INFP messaged me with a picture of herself before going to bed.  Asked me to say goodnight to her.  Asked me to say goodnight to her again.  I did. I thought it was weird, secretly.  I like...|||Either way, you see my point. The actual rarity is skewed and makes a type seem rarer than it likely is in real contexts. I may have been the only one of my type in a class room in High School, but...|||WOW my math was off! I literally just said numbers. See how over glorified the type is?  Even so, though. I saw around two-hundred people (REALLY rough estimate) between both of my jobs. It's...|||Rarity in the context of the entire planet is somewhat silly. Even if we assume the greatest reports of our 'rarity', we (INTJ) encompass 1% of the planet, which sounds rare when you don't think...|||One could say that whatever the culmination of all of our actions are throughout our lives equal our potential.  In this sense, everybody does, but as we all know, not everyone's potential is the...|||I would agree, however, those that profess to know their type not stating anything about their type's motivations strike me as either not wanting to touch on them or not being able to. If they don't...|||Lol.'\""
      ]
     },
     "execution_count": 3,
     "metadata": {},
     "output_type": "execute_result"
    }
   ],
   "source": [
    "data.posts[3]"
   ]
  },
  {
   "cell_type": "markdown",
   "metadata": {},
   "source": [
    "# Data Cleaning\n",
    "\n",
    "We first begin to clean the data by removing the stop words from the data along with any information about the links that the users post. In a practical application, instead of using separate Lambda functions for each task, it would be more convenient to use one loop to perform all these tasks together. However, For this demonstration, we perform each task separately to demonstrate the results after every iteration. "
   ]
  },
  {
   "cell_type": "code",
   "execution_count": 4,
   "metadata": {},
   "outputs": [],
   "source": [
    "#We start off by removing all the hyperlinks \n",
    "data['posts'] = data['posts'].str.replace('http\\S+|www.\\S+', '', case=False)"
   ]
  },
  {
   "cell_type": "code",
   "execution_count": 5,
   "metadata": {},
   "outputs": [],
   "source": [
    "#We then remove all the symbols that we don't need and which won't contribute to anything meaningful. However, we keep the ' to fix the contractions\n",
    "data['posts'] = data['posts'].apply(lambda x: ' '.join([re.sub(r\"[^A-Za-z0-9(),!?\\'\\`\\.]\", \"\", word) for word in x.split()]))"
   ]
  },
  {
   "cell_type": "code",
   "execution_count": 6,
   "metadata": {},
   "outputs": [
    {
     "data": {
      "text/plain": [
       "\" wouldear INTP, I enjoyed our conversation the other day. Esoteric gabbing about the nature of the universe and the idea that every rule and social code being arbitrary constructs created...Dear ENTJ sub, Long time no see. Sincerely, AlphaNone of them. All other types hurt in deep existential ways that I want no part of.Probably a sliding scale that depends on individual preferences, like everything in humanity.Draco Malfoy also. I would say he is either 358 or 368.I am either 358 or 385, though in which stacking to me is a somewhat arbitrary distinction to make as I believe that the core indicates primary motivation and has a hand in every action. Therefore, a...I am not particularly introverted or extraverted, personally. That said, I would say I am somewhat unphased by either social interactions or being alone. What I would say I crave more so than anything is...Dear Type 9 INFP, Your absolute admiration of me is refreshing. you are a great girlfriend and I wish we both did not have such busy schedules so we could be around one another more often. Keep...2 still means about 150 people. I have probably seen 12 others today. I never understood fascination by virtue of rarity.So, you are on the ESFJ train also, right?I have toyed with the idea of the OP being an extrovert also for awhile now, actually. After many conversations with him, however I am disinclined to believe it due to OP being much too close with Fi...Still ESFJI disagree. Definite ESFJ. Fe Si ALL up in this.Where have you been? Your mother and I have been worried sick.Similar feelings concerning ENTPs.I collect shoes. I do so because I like status and nothing communicates such a thing as much as a pair of Jordans.Sure. let us get weird. Back. Off.Best...Insert other into previous post.Wow, do not nobody got time fo' dat... Jk, you kno you mah boi.Well, as I am sure everyone knows, being social primary does not necessarily equal being social. I like other people just fine, but lately I have been on a bit of a break when it comes to my...that is pretty crappy of her. Your sex life is definitely not her business. If I were you, I would definitely talk to her about it.Yeah, I had a lot longer to think about it. That said, I do not think you are Te, so if we operate under the assumptions in the OP, you are INFJ because nothing else makes sense. I am not saying I...Whether or not you actually are, your mom makes fun of you for being a virgin? Is this playful teasing?Just stab in the dark here, I do not think that is Te under the hood. If this here is all I am given to work with, I would have to say INFJ. Compare your idea of 'logic' to mine Logic is a series of...What makes the most sense?Tentatively INTJ. Still reading. EDIT So far, I am of the belief that you are most of the things you say you are. I appreciate the level of detail. EDIT Also relatively certain you are Ni...Refreshing self with reading about instinctual variants. God, I am a hard social type.WOW! Useful thought you had there! want to know what my favorite part was? The fact that it ended...I am both annoyed and intrigued by xxFPs. As far as I can tell, I dislike all J types in my normal life.I am not of the mind that any enneatypeMBTI combination is impossible because cognition the things that motivate us. That said, we can clearly observe many types being more common than others...Sx as hell... seriously toying with the idea of being 351. I can be pretty aggressive and controlling, but I have a massive 'holier than thou' streak once you get to know me with any depth (like more than 12...I would say it is a mostly emotional experience.Because I find in depth study of cognition more interesting. Included MBTI in my answer to illustrate how much I enjoyed socionics. Interpret the post as wholehearted agreement with what she was...No real argument here. I know what I am, and what I am is an asshole that is, for a second baring his teeth at the people that seemingly have a lot to say but refuse to address me beyond a single...I would refer you to the OP. If you need a literal analysis, I am happy to provide it. That said, I am going to assume you are able to read and interpret symbolism, so I doubt you will need that much help.And this was sort of my thought process. The initial post and how it connects the generally accepted view of the type 3 and what the type 3 is motivated by does not seem to be in need of explanation....Oh my... I am quite crushable, huh? Back atcha.I was, but it is 5am. I will take what I can get.I wanted to come up with something clever, but it is almost 5am. I would give you a lot of sex.So then why do you even bother asking if you have already made up your mind that you are an extravert, intuitive and feeling? If you have already decided you are these things and have evidently done the...was not sure I listened to sx music until now. messaged me with a picture of herself before going to bed. Asked me to say goodnight to her. Asked me to say goodnight to her again. I did. I thought it was weird, secretly. I like...Either way, you see my point. The actual rarity is skewed and makes a type seem rarer than it likely is in real contexts. I may have been the only one of my type in a class room in High School, but...WOW my math was off! I literally just said numbers. See how over glorified the type is? Even so, though. I saw around twohundred people (REALLY rough estimate) between both of my jobs. it is...Rarity in the context of the entire planet is somewhat silly. Even if we assume the greatest reports of our 'rarity', we (INTJ) encompass 1 of the planet, which sounds rare when you do not think...One could say that whatever the culmination of all of our actions are throughout our lives equal our potential. In this sense, everybody does, but as we all know, not everyone's potential is the...I would agree, however, those that profess to know their type not stating anything about their type's motivations strike me as either not wanting to touch on them or not being able to. If they do not...Lol.'\""
      ]
     },
     "execution_count": 6,
     "metadata": {},
     "output_type": "execute_result"
    }
   ],
   "source": [
    "#Removing word contractions \n",
    "data['posts']= data['posts'].apply(lambda x: ' '.join([contractions.fix(word) for word in x.split()]))\n",
    "data.posts[3]"
   ]
  },
  {
   "cell_type": "code",
   "execution_count": 7,
   "metadata": {},
   "outputs": [],
   "source": [
    "#Changing all the words to lower-case \n",
    "data['posts'] = data['posts'].apply(lambda x: ' '.join([word.lower() for word in x.split()]))"
   ]
  },
  {
   "cell_type": "code",
   "execution_count": 8,
   "metadata": {},
   "outputs": [],
   "source": [
    "#Removing all the stop-words (As described in the Readme)\n",
    "stop = stopwords.words('english')\n",
    "data['posts'] = data['posts'].apply(lambda x: ' '.join([word for word in x.split() if word not in (stop)]))"
   ]
  },
  {
   "cell_type": "code",
   "execution_count": 9,
   "metadata": {},
   "outputs": [
    {
     "data": {
      "text/plain": [
       "\"wouldear intp, enjoy conversation day. esoteric gabbing nature universe idea every rule social code arbitrary construct created...dear entj sub, long time see. sincerely, alphanone them. type hurt deep existential ways want part of.probably slide scale depend individual preferences, like everything humanity.draco malfoy also. would say either 358 368.i either 358 385, though stack somewhat arbitrary distinction make believe core indicate primary motivation hand every action. therefore, a...i particularly introvert extraverted, personally. said, would say somewhat unphased either social interactions alone. would say crave anything is...dear type 9 infp, absolute admiration refreshing. great girlfriend wish busy schedule could around one another often. keep...2 still mean 150 people. probably see 12 others today. never understand fascination virtue rarity.so, esfj train also, right?i toy idea op extrovert also awhile now, actually. many conversations him, however disincline believe due op much close fi...still esfji disagree. definite esfj. fe si this.where been? mother worry sick.similar feel concern entps.i collect shoes. like status nothing communicate thing much pair jordans.sure. let us get weird. back. off.best...insert previous post.wow, nobody get time fo' dat... jk, kno mah boi.well, sure everyone knows, social primary necessarily equal social. like people fine, lately bite break come my...that pretty crappy her. sex life definitely business. you, would definitely talk it.yeah, lot longer think it. said, think te, operate assumptions op, infj nothing else make sense. say i...whether actually are, mom make fun virgin? playful teasing?just stab dark here, think te hood. give work with, would say infj. compare idea 'logic' mine logic series of...what make sense?tentatively intj. still reading. edit far, belief things say are. appreciate level detail. edit also relatively certain ni...refreshing self read instinctual variants. god, hard social type.wow! useful think there! want know favorite part was? fact ended...i annoy intrigue xxfps. far tell, dislike j type normal life.i mind enneatypembti combination impossible cognition things motivate us. said, clearly observe many type common others...sx hell... seriously toy idea 351. pretty aggressive controlling, massive 'holier thou' streak get know depth (like 12...i would say mostly emotional experience.because find depth study cognition interesting. include mbti answer illustrate much enjoy socionics. interpret post wholehearted agreement was...no real argument here. know am, asshole is, second bar teeth people seemingly lot say refuse address beyond single...i would refer op. need literal analysis, happy provide it. said, go assume able read interpret symbolism, doubt need much help.and sort think process. initial post connect generally accept view type 3 type 3 motivate seem need explanation....oh my... quite crushable, huh? back atcha.i was, 5am. take get.i want come something clever, almost 5am. would give lot sex.so even bother ask already make mind extravert, intuitive feeling? already decide things evidently do the...was sure listen sx music now. message picture go bed. ask say goodnight her. ask say goodnight again. did. think weird, secretly. like...either way, see point. actual rarity skew make type seem rarer likely real contexts. may one type class room high school, but...wow math off! literally say numbers. see glorify type is? even so, though. saw around twohundred people (really rough estimate) jobs. is...rarity context entire planet somewhat silly. even assume greatest report 'rarity', (intj) encompass 1 planet, sound rare think...one could say whatever culmination action throughout live equal potential. sense, everybody does, know, everyone's potential the...i would agree, however, profess know type state anything type's motivations strike either want touch able to. not...lol.'\""
      ]
     },
     "execution_count": 9,
     "metadata": {},
     "output_type": "execute_result"
    }
   ],
   "source": [
    "#Changing all the words into the root-word\n",
    "lemmatizer = nltk.stem.WordNetLemmatizer()\n",
    "data['posts'] = data['posts'].apply(lambda x: ' '.join([lemmatizer.lemmatize(word, 'v') for word in x.split()]))\n",
    "data.posts[3] "
   ]
  },
  {
   "cell_type": "code",
   "execution_count": 10,
   "metadata": {},
   "outputs": [],
   "source": [
    "data.to_csv('preprocessed.csv')"
   ]
  },
  {
   "cell_type": "markdown",
   "metadata": {},
   "source": [
    "# Data Preprocessing\n",
    "\n",
    "This step involves tokenizing the words and padding "
   ]
  },
  {
   "cell_type": "code",
   "execution_count": 11,
   "metadata": {},
   "outputs": [],
   "source": [
    "df = pd.read_csv(\"preprocessed.csv\")"
   ]
  },
  {
   "cell_type": "code",
   "execution_count": 19,
   "metadata": {},
   "outputs": [],
   "source": [
    "Tokenize = df['posts']\n",
    "Tokenize = Tokenize.str.replace('\\d+','')\n"
   ]
  },
  {
   "cell_type": "code",
   "execution_count": 14,
   "metadata": {},
   "outputs": [],
   "source": [
    "max_features = 3000\n",
    "max_review_length = 500\n",
    "\n",
    "tokenizer = Tokenizer(num_words=max_features, split=' ')\n",
    "tokenizer.fit_on_texts(Tokenize.values)\n",
    "x_train = tokenizer.texts_to_sequences(Tokenize.values)\n",
    "X_train = sequence.pad_sequences(x_train, maxlen=max_review_length)"
   ]
  },
  {
   "cell_type": "code",
   "execution_count": 17,
   "metadata": {},
   "outputs": [
    {
     "data": {
      "text/plain": [
       "array([ 583, 1091,  173,  133,  672,  217, 1832, 2742,  500,  247, 2091,\n",
       "         99,   13,   16, 2015, 2659,  959,   97,   18,  385,  473,  476,\n",
       "         15,  148,  165,   82, 1638,  286,  926, 2044,    1,  141, 1678,\n",
       "         29,    3,   12,  191,  191,   46, 2016,  741,   11,  121, 1191,\n",
       "       2045, 1521, 1421,  369,  133,  616, 1161,  123,  755,  266, 1280,\n",
       "        310,  339,    3,   12,  741,  191,  217, 1833,  261,    3,   12,\n",
       "       2097,   93,   87,  500,   18,   59, 1564,  132,  907,  256, 1065,\n",
       "       1751,   33,   84,    7,  163,  147,  124,   66,   45,    5,   82,\n",
       "         16,  119,  283,   42,   73,  143,  336, 1046,   29,   55, 2479,\n",
       "        173,  700, 1055,   29, 1486,  140,   52,   71,  831,  275,  210,\n",
       "        121,  550,  700,   20,  213,  204,   66,  336,  839, 2713,  336,\n",
       "        201,  412,   78, 1271,  433,  462, 1056,  316,   10,  935,  543,\n",
       "       1861,    1, 1928,  194, 1129,   49,   20, 1391,   57,  120,   75,\n",
       "          4,  324,   86,  537,   85, 2430, 1296,   53,  383,  969,    4,\n",
       "         13, 2832,   21,   57,  129, 2814,  217, 1521,  746, 1599,  217,\n",
       "          1,    5,  523,  664,  145,  308,   38,  259,   61,  357,  419,\n",
       "         43,  138,  924,   31,    3,  138,   51,   14,  105,   30,  908,\n",
       "          2,   14,  339,    2,  364, 2621, 2480,  700,   65,  194,  184,\n",
       "         11,  154,   12,   32,  389,   52,  219,  380,   11,  205, 2602,\n",
       "        575,  155,    2,  364,   62,   37,  229,    3,   12,   65,  814,\n",
       "        173,  377,  627,  827,  165,   11,  154,   67,   66, 1446,  641,\n",
       "        212, 1442,   24,   12,  219,  448,  445,  734,  641,   29, 1844,\n",
       "        282,  245,  188,   48,  309,  125,  217,   18,  383,  922,    2,\n",
       "        244,   15,    6,  342,  148,  501,  237,  485, 2009,  212,   54,\n",
       "        697,  623,   18,  599,   43,  108,  183, 1468, 1127,   24, 1583,\n",
       "         75,  339,  832, 1146,   71,   18,  438,  119,  625,  514,  394,\n",
       "       2479,  173,   61, 1372, 2248,    4,    6, 1397,    1,    3,   12,\n",
       "        304,  292,  135,   22, 1397,  378,  422,  674,  183,  180,   20,\n",
       "        171, 1025, 1891,   53,  501,  216,  792,  155,    6,  251, 1689,\n",
       "         87,  359, 1412, 2435,    5, 2339,   30,   12, 1546, 1789, 1138,\n",
       "        578,    3,  995,  700,   47, 1406,  144, 1032,   14,  339,    9,\n",
       "        502,  252,   48, 1891,  566,   47,   20,   90,  249,    2,  527,\n",
       "       2072,   53,  769,  388,  553,  417,   18,   18, 1583,   44,   47,\n",
       "       1415,  126,  259,  127, 1407,   86,  501,  251,   28,    4,   15,\n",
       "         38,   26, 2283,  224,  251,    3,   62,   30,  419,   35,  554,\n",
       "         92,  241,   11,  108, 2956,  843,  873,  241,  355,   24,   88,\n",
       "         76,   57,  242,  625,  197,  140,  728,  391,    9,  772,   92,\n",
       "         12,  357,   92,   12,  326,  825,    2,  324, 2494,    1,  191,\n",
       "         25,   16,   96,  915,   11,   18,   44,  329,  216,  122,    7,\n",
       "         18,  392,  490,  198,  130,  187,  383,  677,  537,  727,   12,\n",
       "         16,   18,   87,   35,  143,   46,  440,   84,  106,    5,    8,\n",
       "       1948, 2783,   87, 1212,  748, 1811,  741,  962,   35,  502, 1785,\n",
       "       1943,   67, 1811,  101,  954,    2,    7,   33,   12,  362,  616,\n",
       "       1542,  113, 1599, 1003,  154, 1095, 1076,    6, 1874, 1003,   76,\n",
       "          3,  114,  210,    6,   18,  431,   93, 1151,  191,   15,  613,\n",
       "        252,   69,   81,   95,   94])"
      ]
     },
     "execution_count": 17,
     "metadata": {},
     "output_type": "execute_result"
    }
   ],
   "source": [
    "X_train[3]"
   ]
  },
  {
   "cell_type": "code",
   "execution_count": null,
   "metadata": {},
   "outputs": [],
   "source": []
  }
 ],
 "metadata": {
  "kernelspec": {
   "display_name": "Python 3",
   "language": "python",
   "name": "python3"
  },
  "language_info": {
   "codemirror_mode": {
    "name": "ipython",
    "version": 3
   },
   "file_extension": ".py",
   "mimetype": "text/x-python",
   "name": "python",
   "nbconvert_exporter": "python",
   "pygments_lexer": "ipython3",
   "version": "3.6.7"
  }
 },
 "nbformat": 4,
 "nbformat_minor": 2
}
